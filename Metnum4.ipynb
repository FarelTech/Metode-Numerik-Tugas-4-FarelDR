{
  "nbformat": 4,
  "nbformat_minor": 0,
  "metadata": {
    "colab": {
      "provenance": [],
      "authorship_tag": "ABX9TyM1simHn/KeNWmFS8gNTvtz",
      "include_colab_link": true
    },
    "kernelspec": {
      "name": "python3",
      "display_name": "Python 3"
    },
    "language_info": {
      "name": "python"
    }
  },
  "cells": [
    {
      "cell_type": "markdown",
      "metadata": {
        "id": "view-in-github",
        "colab_type": "text"
      },
      "source": [
        "<a href=\"https://colab.research.google.com/github/FarelTech/Metode-Numerik-Tugas-4-FarelDR/blob/main/Metnum4.ipynb\" target=\"_parent\"><img src=\"https://colab.research.google.com/assets/colab-badge.svg\" alt=\"Open In Colab\"/></a>"
      ]
    },
    {
      "cell_type": "code",
      "source": [
        "import numpy as np\n",
        "import time\n",
        "\n",
        "def trapezoid_integral(f, a, b, N):\n",
        "    h = (b - a) / N\n",
        "    integral = 0.5 * (f(a) + f(b))\n",
        "    for k in range(1, N):\n",
        "        integral += f(a + k * h)\n",
        "    integral *= h\n",
        "    return integral\n",
        "\n",
        "def f(x):\n",
        "    return 4 / (1 + x**2)\n",
        "\n",
        "# Referensi nilai pi\n",
        "pi_ref = 3.14159265358979323846\n",
        "\n",
        "# Variasi nilai N\n",
        "N_values = [10, 100, 1000, 10000]\n",
        "\n",
        "# Pengujian dan perhitungan galat RMS serta waktu eksekusi\n",
        "results = []\n",
        "\n",
        "for N in N_values:\n",
        "    start_time = time.time()\n",
        "    integral_value = trapezoid_integral(f, 0, 1, N)\n",
        "    end_time = time.time()\n",
        "\n",
        "    rms_error = np.sqrt((integral_value - pi_ref) ** 2)\n",
        "    execution_time = end_time - start_time\n",
        "\n",
        "    results.append((N, integral_value, rms_error, execution_time))\n",
        "\n",
        "# Menampilkan hasil\n",
        "for result in results:\n",
        "    N, integral_value, rms_error, execution_time = result\n",
        "    print(f\"N = {N}: Integral = {integral_value:.15f}, RMS Error = {rms_error:.15f}, Execution Time = {execution_time:.10f} seconds\")\n"
      ],
      "metadata": {
        "colab": {
          "base_uri": "https://localhost:8080/"
        },
        "id": "q_4uNZa6PBJk",
        "outputId": "89f00395-aba1-47f0-e392-31098a5da427"
      },
      "execution_count": 1,
      "outputs": [
        {
          "output_type": "stream",
          "name": "stdout",
          "text": [
            "N = 10: Integral = 3.139925988907159, RMS Error = 0.001666664682634, Execution Time = 0.0000200272 seconds\n",
            "N = 100: Integral = 3.141575986923129, RMS Error = 0.000016666666664, Execution Time = 0.0000636578 seconds\n",
            "N = 1000: Integral = 3.141592486923125, RMS Error = 0.000000166666668, Execution Time = 0.0005986691 seconds\n",
            "N = 10000: Integral = 3.141592651923140, RMS Error = 0.000000001666653, Execution Time = 0.0151617527 seconds\n"
          ]
        }
      ]
    }
  ]
}